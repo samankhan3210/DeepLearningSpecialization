{
 "cells": [
  {
   "cell_type": "markdown",
   "metadata": {},
   "source": [
    "# Convolutional Neural Networks: Application\n",
    "\n",
    "Welcome to Course 4's second assignment! In this notebook, you will:\n",
    "\n",
    "- Create a mood classifer using the TF Keras Sequential API\n",
    "- Build a ConvNet to identify sign language digits using the TF Keras Functional API\n",
    "\n",
    "**After this assignment you will be able to:**\n",
    "\n",
    "- Build and train a ConvNet in TensorFlow for a __binary__ classification problem\n",
    "- Build and train a ConvNet in TensorFlow for a __multiclass__ classification problem\n",
    "- Explain different use cases for the Sequential and Functional APIs\n",
    "\n",
    "To complete this assignment, you should already be familiar with TensorFlow. If you are not, please refer back to the **TensorFlow Tutorial** of the third week of Course 2 (\"**Improving deep neural networks**\").\n",
    "\n",
    "## Important Note on Submission to the AutoGrader\n",
    "\n",
    "Before submitting your assignment to the AutoGrader, please make sure you are not doing the following:\n",
    "\n",
    "1. You have not added any _extra_ `print` statement(s) in the assignment.\n",
    "2. You have not added any _extra_ code cell(s) in the assignment.\n",
    "3. You have not changed any of the function parameters.\n",
    "4. You are not using any global variables inside your graded exercises. Unless specifically instructed to do so, please refrain from it and use the local variables instead.\n",
    "5. You are not changing the assignment code where it is not required, like creating _extra_ variables.\n",
    "\n",
    "If you do any of the following, you will get something like, `Grader not found` (or similarly unexpected) error upon submitting your assignment. Before asking for help/debugging the errors in your assignment, check for these first. If this is the case, and you don't remember the changes you have made, you can get a fresh copy of the assignment by following these [instructions](https://www.coursera.org/learn/convolutional-neural-networks/supplement/DS4yP/h-ow-to-refresh-your-workspace)."
   ]
  },
  {
   "cell_type": "markdown",
   "metadata": {},
   "source": [
    "## Table of Contents\n",
    "\n",
    "- [1 - Packages](#1)\n",
    "    - [1.1 - Load the Data and Split the Data into Train/Test Sets](#1-1)\n",
    "- [2 - Layers in TF Keras](#2)\n",
    "- [3 - The Sequential API](#3)\n",
    "    - [3.1 - Create the Sequential Model](#3-1)\n",
    "        - [Exercise 1 - happyModel](#ex-1)\n",
    "    - [3.2 - Train and Evaluate the Model](#3-2)\n",
    "- [4 - The Functional API](#4)\n",
    "    - [4.1 - Load the SIGNS Dataset](#4-1)\n",
    "    - [4.2 - Split the Data into Train/Test Sets](#4-2)\n",
    "    - [4.3 - Forward Propagation](#4-3)\n",
    "        - [Exercise 2 - convolutional_model](#ex-2)\n",
    "    - [4.4 - Train the Model](#4-4)\n",
    "- [5 - History Object](#5)\n",
    "- [6 - Bibliography](#6)"
   ]
  },
  {
   "cell_type": "markdown",
   "metadata": {},
   "source": [
    "<a name='1'></a>\n",
    "## 1 - Packages\n",
    "\n",
    "As usual, begin by loading in the packages."
   ]
  },
  {
   "cell_type": "code",
   "execution_count": 1,
   "metadata": {},
   "outputs": [],
   "source": [
    "import math\n",
    "import numpy as np\n",
    "import h5py\n",
    "import matplotlib.pyplot as plt\n",
    "from matplotlib.pyplot import imread\n",
    "import scipy\n",
    "from PIL import Image\n",
    "import pandas as pd\n",
    "import tensorflow as tf\n",
    "import tensorflow.keras.layers as tfl\n",
    "from tensorflow.python.framework import ops\n",
    "from cnn_utils import *\n",
    "from test_utils import summary, comparator\n",
    "\n",
    "%matplotlib inline\n",
    "np.random.seed(1)"
   ]
  },
  {
   "cell_type": "markdown",
   "metadata": {},
   "source": [
    "<a name='1-1'></a>\n",
    "### 1.1 - Load the Data and Split the Data into Train/Test Sets\n",
    "\n",
    "You'll be using the Happy House dataset for this part of the assignment, which contains images of peoples' faces. Your task will be to build a ConvNet that determines whether the people in the images are smiling or not -- because they only get to enter the house if they're smiling!  "
   ]
  },
  {
   "cell_type": "code",
   "execution_count": 2,
   "metadata": {},
   "outputs": [
    {
     "name": "stdout",
     "output_type": "stream",
     "text": [
      "number of training examples = 600\n",
      "number of test examples = 150\n",
      "X_train shape: (600, 64, 64, 3)\n",
      "Y_train shape: (600, 1)\n",
      "X_test shape: (150, 64, 64, 3)\n",
      "Y_test shape: (150, 1)\n"
     ]
    }
   ],
   "source": [
    "X_train_orig, Y_train_orig, X_test_orig, Y_test_orig, classes = load_happy_dataset()\n",
    "\n",
    "# Normalize image vectors\n",
    "X_train = X_train_orig/255.\n",
    "X_test = X_test_orig/255.\n",
    "\n",
    "# Reshape\n",
    "Y_train = Y_train_orig.T\n",
    "Y_test = Y_test_orig.T\n",
    "\n",
    "print (\"number of training examples = \" + str(X_train.shape[0]))\n",
    "print (\"number of test examples = \" + str(X_test.shape[0]))\n",
    "print (\"X_train shape: \" + str(X_train.shape))\n",
    "print (\"Y_train shape: \" + str(Y_train.shape))\n",
    "print (\"X_test shape: \" + str(X_test.shape))\n",
    "print (\"Y_test shape: \" + str(Y_test.shape))"
   ]
  },
  {
   "cell_type": "markdown",
   "metadata": {},
   "source": [
    "You can display the images contained in the dataset. Images are **64x64** pixels in RGB format (3 channels)."
   ]
  },
  {
   "cell_type": "code",
   "execution_count": 3,
   "metadata": {},
   "outputs": [
    {
     "data": {
      "image/png": "[encoded data removed]",
      "text/plain": [
       "<Figure size 432x288 with 1 Axes>"
      ]
     },
     "metadata": {
      "needs_background": "light"
     },
     "output_type": "display_data"
    }
   ],
   "source": [
    "index = 124\n",
    "plt.imshow(X_train_orig[index]) #display sample training image\n",
    "plt.show()"
   ]
  },
  {
   "cell_type": "markdown",
   "metadata": {},
   "source": [
    "<a name='2'></a>\n",
    "## 2 - Layers in TF Keras \n",
    "\n",
    "In the previous assignment, you created layers manually in numpy. In TF Keras, you don't have to write code directly to create layers. Rather, TF Keras has pre-defined layers you can use. \n",
    "\n",
    "When you create a layer in TF Keras, you are creating a function that takes some input and transforms it into an output you can reuse later. Nice and easy! "
   ]
  },
  {
   "cell_type": "markdown",
   "metadata": {},
   "source": [
    "<a name='3'></a>\n",
    "## 3 - The Sequential API\n",
    "\n",
    "In the previous assignment, you built helper functions using `numpy` to understand the mechanics behind convolutional neural networks. Most practical applications of deep learning today are built using programming frameworks, which have many built-in functions you can simply call. Keras is a high-level abstraction built on top of TensorFlow, which allows for even more simplified and optimized model creation and training. \n",
    "\n",
    "For the first part of this assignment, you'll create a model using TF Keras' Sequential API, which allows you to build layer by layer, and is ideal for building models where each layer has **exactly one** input tensor and **one** output tensor. \n",
    "\n",
    "As you'll see, using the Sequential API is simple and straightforward, but is only appropriate for simpler, more straightforward tasks. Later in this notebook you'll spend some time building with a more flexible, powerful alternative: the Functional API. \n",
    " "
   ]
  },
  {
   "cell_type": "markdown",
   "metadata": {},
   "source": [
    "<a name='3-1'></a>\n",
    "### 3.1 - Create the Sequential Model\n",
    "\n",
    "As mentioned earlier, the TensorFlow Keras Sequential API can be used to build simple models with layer operations that proceed in a sequential order. \n",
    "\n",
    "You can also add layers incrementally to a Sequential model with the `.add()` method, or remove them using the `.pop()` method, much like you would in a regular Python list.\n",
    "\n",
    "Actually, you can think of a Sequential model as behaving like a list of layers. Like Python lists, Sequential layers are ordered, and the order in which they are specified matters.  If your model is non-linear or contains layers with multiple inputs or outputs, a Sequential model wouldn't be the right choice!\n",
    "\n",
    "For any layer construction in Keras, you'll need to specify the input shape in advance. This is because in Keras, the shape of the weights is based on the shape of the inputs. The weights are only created when the model first sees some input data. Sequential models can be created by passing a list of layers to the Sequential constructor, like you will do in the next assignment.\n",
    "\n",
    "<a name='ex-1'></a>\n",
    "### Exercise 1 - happyModel\n",
    "\n",
    "Implement the `happyModel` function below to build the following model: `ZEROPAD2D -> CONV2D -> BATCHNORM -> RELU -> MAXPOOL -> FLATTEN -> DENSE`. Take help from [tf.keras.layers](https://www.tensorflow.org/api_docs/python/tf/keras/layers) \n",
    "\n",
    "Also, plug in the following parameters for all the steps:\n",
    "\n",
    " - [ZeroPadding2D](https://www.tensorflow.org/api_docs/python/tf/keras/layers/ZeroPadding2D): padding 3, input shape 64 x 64 x 3\n",
    " - [Conv2D](https://www.tensorflow.org/api_docs/python/tf/keras/layers/Conv2D): Use 32 7x7 filters, stride 1\n",
    " - [BatchNormalization](https://www.tensorflow.org/api_docs/python/tf/keras/layers/BatchNormalization): for axis 3\n",
    " - [ReLU](https://www.tensorflow.org/api_docs/python/tf/keras/layers/ReLU)\n",
    " - [MaxPool2D](https://www.tensorflow.org/api_docs/python/tf/keras/layers/MaxPool2D): Using default parameters\n",
    " - [Flatten](https://www.tensorflow.org/api_docs/python/tf/keras/layers/Flatten) the previous output.\n",
    " - Fully-connected ([Dense](https://www.tensorflow.org/api_docs/python/tf/keras/layers/Dense)) layer: Apply a fully connected layer with 1 neuron and a sigmoid activation. \n",
    " \n",
    " \n",
    " **Hint:**\n",
    " \n",
    " Use **tfl** as shorthand for **tensorflow.keras.layers**"
   ]
  },
  {
   "cell_type": "code",
   "execution_count": 11,
   "metadata": {
    "deletable": false,
    "nbgrader": {
     "cell_type": "code",
     "checksum": "95d28b191f257bdd5b70c7b8952559d5",
     "grade": false,
     "grade_id": "cell-0e56d3fc28b69aec",
     "locked": false,
     "schema_version": 3,
     "solution": true,
     "task": false
    }
   },
   "outputs": [],
   "source": [
    "# GRADED FUNCTION: happyModel\n",
    "\n",
    "def happyModel():\n",
    "    \"\"\"\n",
    "    Implements the forward propagation for the binary classification model:\n",
    "    ZEROPAD2D -> CONV2D -> BATCHNORM -> RELU -> MAXPOOL -> FLATTEN -> DENSE\n",
    "    \n",
    "    Note that for simplicity and grading purposes, you'll hard-code all the values\n",
    "    such as the stride and kernel (filter) sizes. \n",
    "    Normally, functions should take these values as function parameters.\n",
    "    \n",
    "    Arguments:\n",
    "    None\n",
    "\n",
    "    Returns:\n",
    "    model -- TF Keras model (object containing the information for the entire training process) \n",
    "    \"\"\"\n",
    "    model = tf.keras.Sequential([\n",
    "\n",
    "            # YOUR CODE STARTS HERE\n",
    "            tfl.ZeroPadding2D(padding=3, input_shape=(64,64,3)),\n",
    "            tfl.Conv2D(32,7,strides=1),\n",
    "            tfl.BatchNormalization(axis=3),\n",
    "            tfl.ReLU(),\n",
    "            tfl.MaxPooling2D(),\n",
    "            tfl.Flatten(),\n",
    "            tfl.Dense(1, activation='sigmoid')\n",
    "            \n",
    "            # YOUR CODE ENDS HERE\n",
    "        ])\n",
    "    \n",
    "    return model"
   ]
  },
  {
   "cell_type": "code",
   "execution_count": 12,
   "metadata": {
    "deletable": false,
    "editable": false,
    "nbgrader": {
     "cell_type": "code",
     "checksum": "8d3575c950e2e78149be2d05d671c80d",
     "grade": true,
     "grade_id": "cell-e3e1046e5c33d775",
     "locked": true,
     "points": 10,
     "schema_version": 3,
     "solution": false,
     "task": false
    }
   },
   "outputs": [
    {
     "name": "stdout",
     "output_type": "stream",
     "text": [
      "['ZeroPadding2D', (None, 70, 70, 3), 0, ((3, 3), (3, 3))]\n",
      "['Conv2D', (None, 64, 64, 32), 4736, 'valid', 'linear', 'GlorotUniform']\n",
      "['BatchNormalization', (None, 64, 64, 32), 128]\n",
      "['ReLU', (None, 64, 64, 32), 0]\n",
      "['MaxPooling2D', (None, 32, 32, 32), 0, (2, 2), (2, 2), 'valid']\n",
      "['Flatten', (None, 32768), 0]\n",
      "['Dense', (None, 1), 32769, 'sigmoid']\n",
      "\u001b[32mAll tests passed!\u001b[0m\n"
     ]
    }
   ],
   "source": [
    "happy_model = happyModel()\n",
    "# Print a summary for each layer\n",
    "for layer in summary(happy_model):\n",
    "    print(layer)\n",
    "    \n",
    "output = [['ZeroPadding2D', (None, 70, 70, 3), 0, ((3, 3), (3, 3))],\n",
    "            ['Conv2D', (None, 64, 64, 32), 4736, 'valid', 'linear', 'GlorotUniform'],\n",
    "            ['BatchNormalization', (None, 64, 64, 32), 128],\n",
    "            ['ReLU', (None, 64, 64, 32), 0],\n",
    "            ['MaxPooling2D', (None, 32, 32, 32), 0, (2, 2), (2, 2), 'valid'],\n",
    "            ['Flatten', (None, 32768), 0],\n",
    "            ['Dense', (None, 1), 32769, 'sigmoid']]\n",
    "    \n",
    "comparator(summary(happy_model), output)"
   ]
  },
  {
   "cell_type": "markdown",
   "metadata": {},
   "source": [
    "Now that your model is created, you can compile it for training with an optimizer and loss of your choice. When the string `accuracy` is specified as a metric, the type of accuracy used will be automatically converted based on the loss function used. This is one of the many optimizations built into TensorFlow that make your life easier! If you'd like to read more on how the compiler operates, check the docs [here](https://www.tensorflow.org/api_docs/python/tf/keras/Model#compile)."
   ]
  },
  {
   "cell_type": "code",
   "execution_count": 13,
   "metadata": {},
   "outputs": [],
   "source": [
    "happy_model.compile(optimizer='adam',\n",
    "                   loss='binary_crossentropy',\n",
    "                   metrics=['accuracy'])"
   ]
  },
  {
   "cell_type": "markdown",
   "metadata": {},
   "source": [
    "It's time to check your model's parameters with the `.summary()` method. This will display the types of layers you have, the shape of the outputs, and how many parameters are in each layer. "
   ]
  },
  {
   "cell_type": "code",
   "execution_count": 14,
   "metadata": {},
   "outputs": [
    {
     "name": "stdout",
     "output_type": "stream",
     "text": [
      "Model: \"sequential_1\"\n",
      "_________________________________________________________________\n",
      "Layer (type)                 Output Shape              Param #   \n",
      "=================================================================\n",
      "zero_padding2d_2 (ZeroPaddin (None, 70, 70, 3)         0         \n",
      "_________________________________________________________________\n",
      "conv2d_2 (Conv2D)            (None, 64, 64, 32)        4736      \n",
      "_________________________________________________________________\n",
      "batch_normalization_2 (Batch (None, 64, 64, 32)        128       \n",
      "_________________________________________________________________\n",
      "re_lu_2 (ReLU)               (None, 64, 64, 32)        0         \n",
      "_________________________________________________________________\n",
      "max_pooling2d_2 (MaxPooling2 (None, 32, 32, 32)        0         \n",
      "_________________________________________________________________\n",
      "flatten_2 (Flatten)          (None, 32768)             0         \n",
      "_________________________________________________________________\n",
      "dense_1 (Dense)              (None, 1)                 32769     \n",
      "=================================================================\n",
      "Total params: 37,633\n",
      "Trainable params: 37,569\n",
      "Non-trainable params: 64\n",
      "_________________________________________________________________\n"
     ]
    }
   ],
   "source": [
    "happy_model.summary()"
   ]
  },
  {
   "cell_type": "markdown",
   "metadata": {},
   "source": [
    "<a name='3-2'></a>\n",
    "### 3.2 - Train and Evaluate the Model\n",
    "\n",
    "After creating the model, compiling it with your choice of optimizer and loss function, and doing a sanity check on its contents, you are now ready to build! \n",
    "\n",
    "Simply call `.fit()` to train. That's it! No need for mini-batching, saving, or complex backpropagation computations. That's all been done for you, as you're using a TensorFlow dataset with the batches specified already. You do have the option to specify epoch number or minibatch size if you like (for example, in the case of an un-batched dataset)."
   ]
  },
  {
   "cell_type": "code",
   "execution_count": 15,
   "metadata": {},
   "outputs": [
    {
     "name": "stdout",
     "output_type": "stream",
     "text": [
      "Epoch 1/10\n",
      "38/38 [==============================] - 4s 100ms/step - loss: 1.4610 - accuracy: 0.6933\n",
      "Epoch 2/10\n",
      "38/38 [==============================] - 4s 95ms/step - loss: 0.2321 - accuracy: 0.9017\n",
      "Epoch 3/10\n",
      "38/38 [==============================] - 4s 95ms/step - loss: 0.1893 - accuracy: 0.9233\n",
      "Epoch 4/10\n",
      "38/38 [==============================] - 4s 95ms/step - loss: 0.3150 - accuracy: 0.8867\n",
      "Epoch 5/10\n",
      "38/38 [==============================] - 4s 97ms/step - loss: 0.1065 - accuracy: 0.9617\n",
      "Epoch 6/10\n",
      "38/38 [==============================] - 4s 95ms/step - loss: 0.1104 - accuracy: 0.9483\n",
      "Epoch 7/10\n",
      "38/38 [==============================] - 4s 97ms/step - loss: 0.0915 - accuracy: 0.9717\n",
      "Epoch 8/10\n",
      "38/38 [==============================] - 4s 95ms/step - loss: 0.0733 - accuracy: 0.9767\n",
      "Epoch 9/10\n",
      "38/38 [==============================] - 4s 98ms/step - loss: 0.0634 - accuracy: 0.9767\n",
      "Epoch 10/10\n",
      "38/38 [==============================] - 4s 95ms/step - loss: 0.0949 - accuracy: 0.9683\n"
     ]
    },
    {
     "data": {
      "text/plain": [
       "<tensorflow.python.keras.callbacks.History at 0x7f45d2184910>"
      ]
     },
     "execution_count": 15,
     "metadata": {},
     "output_type": "execute_result"
    }
   ],
   "source": [
    "happy_model.fit(X_train, Y_train, epochs=10, batch_size=16)"
   ]
  },
  {
   "cell_type": "markdown",
   "metadata": {},
   "source": [
    "After that completes, just use `.evaluate()` to evaluate against your test set. This function will print the value of the loss function and the performance metrics specified during the compilation of the model. In this case, the `binary_crossentropy` and the `accuracy` respectively."
   ]
  },
  {
   "cell_type": "code",
   "execution_count": 16,
   "metadata": {},
   "outputs": [
    {
     "name": "stdout",
     "output_type": "stream",
     "text": [
      "5/5 [==============================] - 0s 33ms/step - loss: 0.3359 - accuracy: 0.8133\n"
     ]
    },
    {
     "data": {
      "text/plain": [
       "[0.33586838841438293, 0.8133333325386047]"
      ]
     },
     "execution_count": 16,
     "metadata": {},
     "output_type": "execute_result"
    }
   ],
   "source": [
    "happy_model.evaluate(X_test, Y_test)"
   ]
  },
  {
   "cell_type": "markdown",
   "metadata": {},
   "source": [
    "Easy, right? But what if you need to build a model with shared layers, branches, or multiple inputs and outputs? This is where Sequential, with its beautifully simple yet limited functionality, won't be able to help you. \n",
    "\n",
    "Next up: Enter the Functional API, your slightly more complex, highly flexible friend.  "
   ]
  },
  {
   "cell_type": "markdown",
   "metadata": {},
   "source": [
    "<a name='4'></a>\n",
    "## 4 - The Functional API"
   ]
  },
  {
   "cell_type": "markdown",
   "metadata": {},
   "source": [
    "Welcome to the second half of the assignment, where you'll use Keras' flexible [Functional API](https://www.tensorflow.org/guide/keras/functional) to build a ConvNet that can differentiate between 6 sign language digits. \n",
    "\n",
    "The Functional API can handle models with non-linear topology, shared layers, as well as layers with multiple inputs or outputs. Imagine that, where the Sequential API requires the model to move in a linear fashion through its layers, the Functional API allows much more flexibility. Where Sequential is a straight line, a Functional model is a graph, where the nodes of the layers can connect in many more ways than one. \n",
    "\n",
    "In the visual example below, the one possible direction of the movement Sequential model is shown in contrast to a skip connection, which is just one of the many ways a Functional model can be constructed. A skip connection, as you might have guessed, skips some layer in the network and feeds the output to a later layer in the network. Don't worry, you'll be spending more time with skip connections very soon! "
   ]
  },
  {
   "cell_type": "markdown",
   "metadata": {},
   "source": [
    "<img src=\"images/seq_vs_func.png\" style=\"width:350px;height:200px;\">"
   ]
  },
  {
   "cell_type": "markdown",
   "metadata": {},
   "source": [
    "<a name='4-1'></a>\n",
    "### 4.1 - Load the SIGNS Dataset\n",
    "\n",
    "As a reminder, the SIGNS dataset is a collection of 6 signs representing numbers from 0 to 5."
   ]
  },
  {
   "cell_type": "code",
   "execution_count": 17,
   "metadata": {},
   "outputs": [],
   "source": [
    "# Loading the data (signs)\n",
    "X_train_orig, Y_train_orig, X_test_orig, Y_test_orig, classes = load_signs_dataset()"
   ]
  },
  {
   "cell_type": "markdown",
   "metadata": {},
   "source": [
    "<img src=\"images/SIGNS.png\" style=\"width:800px;height:300px;\">\n",
    "\n",
    "The next cell will show you an example of a labelled image in the dataset. Feel free to change the value of `index` below and re-run to see different examples. "
   ]
  },
  {
   "cell_type": "code",
   "execution_count": 18,
   "metadata": {},
   "outputs": [
    {
     "name": "stdout",
     "output_type": "stream",
     "text": [
      "y = 4\n"
     ]
    },
    {
     "data": {
      "image/png": "[encoded data removed]",
      "text/plain": [
       "<Figure size 432x288 with 1 Axes>"
      ]
     },
     "metadata": {
      "needs_background": "light"
     },
     "output_type": "display_data"
    }
   ],
   "source": [
    "# Example of an image from the dataset\n",
    "index = 9\n",
    "plt.imshow(X_train_orig[index])\n",
    "print (\"y = \" + str(np.squeeze(Y_train_orig[:, index])))"
   ]
  },
  {
   "cell_type": "markdown",
   "metadata": {},
   "source": [
    "<a name='4-2'></a>\n",
    "### 4.2 - Split the Data into Train/Test Sets\n",
    "\n",
    "In Course 2, you built a fully-connected network for this dataset. But since this is an image dataset, it is more natural to apply a ConvNet to it.\n",
    "\n",
    "To get started, let's examine the shapes of your data. "
   ]
  },
  {
   "cell_type": "code",
   "execution_count": 19,
   "metadata": {},
   "outputs": [
    {
     "name": "stdout",
     "output_type": "stream",
     "text": [
      "number of training examples = 1080\n",
      "number of test examples = 120\n",
      "X_train shape: (1080, 64, 64, 3)\n",
      "Y_train shape: (1080, 6)\n",
      "X_test shape: (120, 64, 64, 3)\n",
      "Y_test shape: (120, 6)\n"
     ]
    }
   ],
   "source": [
    "X_train = X_train_orig/255.\n",
    "X_test = X_test_orig/255.\n",
    "Y_train = convert_to_one_hot(Y_train_orig, 6).T\n",
    "Y_test = convert_to_one_hot(Y_test_orig, 6).T\n",
    "print (\"number of training examples = \" + str(X_train.shape[0]))\n",
    "print (\"number of test examples = \" + str(X_test.shape[0]))\n",
    "print (\"X_train shape: \" + str(X_train.shape))\n",
    "print (\"Y_train shape: \" + str(Y_train.shape))\n",
    "print (\"X_test shape: \" + str(X_test.shape))\n",
    "print (\"Y_test shape: \" + str(Y_test.shape))"
   ]
  },
  {
   "cell_type": "markdown",
   "metadata": {},
   "source": [
    "<a name='4-3'></a>\n",
    "### 4.3 - Forward Propagation\n",
    "\n",
    "In TensorFlow, there are built-in functions that implement the convolution steps for you. By now, you should be familiar with how TensorFlow builds computational graphs. In the [Functional API](https://www.tensorflow.org/guide/keras/functional), you create a graph of layers. This is what allows such great flexibility.\n",
    "\n",
    "However, the following model could also be defined using the Sequential API since the information flow is on a single line. But don't deviate. What we want you to learn is to use the functional API.\n",
    "\n",
    "Begin building your graph of layers by creating an input node that functions as a callable object:\n",
    "\n",
    "- **input_img = tf.keras.Input(shape=input_shape):** \n",
    "\n",
    "Then, create a new node in the graph of layers by calling a layer on the `input_img` object: \n",
    "\n",
    "- **tf.keras.layers.Conv2D(filters= ... , kernel_size= ... , padding='same')(input_img):** Read the full documentation on [Conv2D](https://www.tensorflow.org/api_docs/python/tf/keras/layers/Conv2D).\n",
    "\n",
    "- **tf.keras.layers.MaxPool2D(pool_size=(f, f), strides=(s, s), padding='same'):** `MaxPool2D()` downsamples your input using a window of size (f, f) and strides of size (s, s) to carry out max pooling over each window.  For max pooling, you usually operate on a single example at a time and a single channel at a time. Read the full documentation on [MaxPool2D](https://www.tensorflow.org/api_docs/python/tf/keras/layers/MaxPool2D).\n",
    "\n",
    "- **tf.keras.layers.ReLU():** computes the elementwise ReLU of Z (which can be any shape). You can read the full documentation on [ReLU](https://www.tensorflow.org/api_docs/python/tf/keras/layers/ReLU).\n",
    "\n",
    "- **tf.keras.layers.Flatten()**: given a tensor \"P\", this function takes each training (or test) example in the batch and flattens it into a 1D vector.  \n",
    "\n",
    "    * If a tensor P has the shape (batch_size,h,w,c), it returns a flattened tensor with shape (batch_size, k), where $k=h \\times w \\times c$.  \"k\" equals the product of all the dimension sizes other than the first dimension.\n",
    "    \n",
    "    * For example, given a tensor with dimensions [100, 2, 3, 4], it flattens the tensor to be of shape [100, 24], where 24 = 2 * 3 * 4.  You can read the full documentation on [Flatten](https://www.tensorflow.org/api_docs/python/tf/keras/layers/Flatten).\n",
    "\n",
    "- **tf.keras.layers.Dense(units= ... , activation='softmax')(F):** given the flattened input F, it returns the output computed using a fully connected layer. You can read the full documentation on [Dense](https://www.tensorflow.org/api_docs/python/tf/keras/layers/Dense).\n",
    "\n",
    "In the last function above (`tf.keras.layers.Dense()`), the fully connected layer automatically initializes weights in the graph and keeps on training them as you train the model. Hence, you did not need to initialize those weights when initializing the parameters.\n",
    "\n",
    "Lastly, before creating the model, you'll need to define the output using the last of the function's compositions (in this example, a Dense layer): \n",
    "\n",
    "- **outputs = tf.keras.layers.Dense(units=6, activation='softmax')(F)**\n",
    "\n",
    "\n",
    "#### Window, kernel, filter, pool\n",
    "\n",
    "The words \"kernel\" and \"filter\" are used to refer to the same thing. The word \"filter\" accounts for the amount of \"kernels\" that will be used in a single convolution layer. \"Pool\" is the name of the operation that takes the max or average value of the kernels. \n",
    "\n",
    "This is why the parameter `pool_size` refers to `kernel_size`, and you use `(f,f)` to refer to the filter size. \n",
    "\n",
    "Pool size and kernel size refer to the same thing in different objects - They refer to the shape of the window where the operation takes place. "
   ]
  },
  {
   "cell_type": "markdown",
   "metadata": {},
   "source": [
    "<a name='ex-2'></a>\n",
    "### Exercise 2 - convolutional_model\n",
    "\n",
    "Implement the `convolutional_model` function below to build the following model: `CONV2D -> RELU -> MAXPOOL -> CONV2D -> RELU -> MAXPOOL -> FLATTEN -> DENSE`. Use the functions above! \n",
    "\n",
    "Also, plug in the following parameters for all the steps:\n",
    "\n",
    " - [Conv2D](https://www.tensorflow.org/api_docs/python/tf/keras/layers/Conv2D): Use 8 4 by 4 filters, stride 1, padding is \"SAME\"\n",
    " - [ReLU](https://www.tensorflow.org/api_docs/python/tf/keras/layers/ReLU)\n",
    " - [MaxPool2D](https://www.tensorflow.org/api_docs/python/tf/keras/layers/MaxPool2D): Use an 8 by 8 filter size and an 8 by 8 stride, padding is \"SAME\"\n",
    " - **Conv2D**: Use 16 2 by 2 filters, stride 1, padding is \"SAME\"\n",
    " - **ReLU**\n",
    " - **MaxPool2D**: Use a 4 by 4 filter size and a 4 by 4 stride, padding is \"SAME\"\n",
    " - [Flatten](https://www.tensorflow.org/api_docs/python/tf/keras/layers/Flatten) the previous output.\n",
    " - Fully-connected ([Dense](https://www.tensorflow.org/api_docs/python/tf/keras/layers/Dense)) layer: Apply a fully connected layer with 6 neurons and a softmax activation. "
   ]
  },
  {
   "cell_type": "code",
   "execution_count": 23,
   "metadata": {
    "deletable": false,
    "nbgrader": {
     "cell_type": "code",
     "checksum": "f58643806aa8380c96225fc8b4c5e7aa",
     "grade": false,
     "grade_id": "cell-dac51744a9e03f51",
     "locked": false,
     "schema_version": 3,
     "solution": true,
     "task": false
    }
   },
   "outputs": [],
   "source": [
    "# GRADED FUNCTION: convolutional_model\n",
    "\n",
    "def convolutional_model(input_shape):\n",
    "    \"\"\"\n",
    "    Implements the forward propagation for the model:\n",
    "    CONV2D -> RELU -> MAXPOOL -> CONV2D -> RELU -> MAXPOOL -> FLATTEN -> DENSE\n",
    "    \n",
    "    Note that for simplicity and grading purposes, you'll hard-code some values\n",
    "    such as the stride and kernel (filter) sizes. \n",
    "    Normally, functions should take these values as function parameters.\n",
    "    \n",
    "    Arguments:\n",
    "    input_img -- input dataset, of shape (input_shape)\n",
    "\n",
    "    Returns:\n",
    "    model -- TF Keras model (object containing the information for the entire training process) \n",
    "    \"\"\"\n",
    "\n",
    "    input_img = tf.keras.Input(shape=input_shape)\n",
    "    ## CONV2D: 8 filters 4x4, stride of 1, padding 'SAME'\n",
    "    # Z1 = \n",
    "    ## RELU\n",
    "    # A1 = None\n",
    "    ## MAXPOOL: window 8x8, stride 8, padding 'SAME'\n",
    "    # P1 = None\n",
    "    ## CONV2D: 16 filters 2x2, stride 1, padding 'SAME'\n",
    "    # Z2 = None\n",
    "    ## RELU\n",
    "    # A2 = None\n",
    "    ## MAXPOOL: window 4x4, stride 4, padding 'SAME'\n",
    "    # P2 = None\n",
    "    ## FLATTEN\n",
    "    # F = None\n",
    "    ## Dense layer\n",
    "    ## 6 neurons in output layer. Hint: one of the arguments should be \"activation='softmax'\" \n",
    "    # outputs = None\n",
    "    # YOUR CODE STARTS HERE\n",
    "    Z1 = tfl.Conv2D(8,4,strides=1, padding='same')(input_img)\n",
    "    A1 = tfl.ReLU()(Z1)\n",
    "    P1 = tfl.MaxPooling2D(pool_size=(8,8), strides=8, padding='same')(A1)\n",
    "    Z2 = tfl.Conv2D(16,2,strides=1, padding='same')(P1)\n",
    "    A2 = tfl.ReLU()(Z2)\n",
    "    P2 = tfl.MaxPooling2D(pool_size=(4,4), strides=4, padding='same')(A2)\n",
    "    F = tfl.Flatten()(P2)\n",
    "    outputs = tfl.Dense(6, activation='softmax')(F)\n",
    "    \n",
    "    # YOUR CODE ENDS HERE\n",
    "    model = tf.keras.Model(inputs=input_img, outputs=outputs)\n",
    "    return model"
   ]
  },
  {
   "cell_type": "code",
   "execution_count": 24,
   "metadata": {
    "deletable": false,
    "editable": false,
    "nbgrader": {
     "cell_type": "code",
     "checksum": "483d626949930a0b0ef20997e7c6ba72",
     "grade": true,
     "grade_id": "cell-45d22e92042174c9",
     "locked": true,
     "points": 10,
     "schema_version": 3,
     "solution": false,
     "task": false
    }
   },
   "outputs": [
    {
     "name": "stdout",
     "output_type": "stream",
     "text": [
      "Model: \"functional_1\"\n",
      "_________________________________________________________________\n",
      "Layer (type)                 Output Shape              Param #   \n",
      "=================================================================\n",
      "input_2 (InputLayer)         [(None, 64, 64, 3)]       0         \n",
      "_________________________________________________________________\n",
      "conv2d_4 (Conv2D)            (None, 64, 64, 8)         392       \n",
      "_________________________________________________________________\n",
      "re_lu_4 (ReLU)               (None, 64, 64, 8)         0         \n",
      "_________________________________________________________________\n",
      "max_pooling2d_3 (MaxPooling2 (None, 8, 8, 8)           0         \n",
      "_________________________________________________________________\n",
      "conv2d_5 (Conv2D)            (None, 8, 8, 16)          528       \n",
      "_________________________________________________________________\n",
      "re_lu_5 (ReLU)               (None, 8, 8, 16)          0         \n",
      "_________________________________________________________________\n",
      "max_pooling2d_4 (MaxPooling2 (None, 2, 2, 16)          0         \n",
      "_________________________________________________________________\n",
      "flatten_3 (Flatten)          (None, 64)                0         \n",
      "_________________________________________________________________\n",
      "dense_2 (Dense)              (None, 6)                 390       \n",
      "=================================================================\n",
      "Total params: 1,310\n",
      "Trainable params: 1,310\n",
      "Non-trainable params: 0\n",
      "_________________________________________________________________\n",
      "\u001b[32mAll tests passed!\u001b[0m\n"
     ]
    }
   ],
   "source": [
    "conv_model = convolutional_model((64, 64, 3))\n",
    "conv_model.compile(optimizer='adam',\n",
    "                  loss='categorical_crossentropy',\n",
    "                  metrics=['accuracy'])\n",
    "conv_model.summary()\n",
    "    \n",
    "output = [['InputLayer', [(None, 64, 64, 3)], 0],\n",
    "        ['Conv2D', (None, 64, 64, 8), 392, 'same', 'linear', 'GlorotUniform'],\n",
    "        ['ReLU', (None, 64, 64, 8), 0],\n",
    "        ['MaxPooling2D', (None, 8, 8, 8), 0, (8, 8), (8, 8), 'same'],\n",
    "        ['Conv2D', (None, 8, 8, 16), 528, 'same', 'linear', 'GlorotUniform'],\n",
    "        ['ReLU', (None, 8, 8, 16), 0],\n",
    "        ['MaxPooling2D', (None, 2, 2, 16), 0, (4, 4), (4, 4), 'same'],\n",
    "        ['Flatten', (None, 64), 0],\n",
    "        ['Dense', (None, 6), 390, 'softmax']]\n",
    "    \n",
    "comparator(summary(conv_model), output)"
   ]
  },
  {
   "cell_type": "markdown",
   "metadata": {},
   "source": [
    "Both the Sequential and Functional APIs return a TF Keras model object. The only difference is how inputs are handled inside the object model! "
   ]
  },
  {
   "cell_type": "markdown",
   "metadata": {},
   "source": [
    "<a name='4-4'></a>\n",
    "### 4.4 - Train the Model"
   ]
  },
  {
   "cell_type": "code",
   "execution_count": 26,
   "metadata": {},
   "outputs": [
    {
     "name": "stdout",
     "output_type": "stream",
     "text": [
      "Epoch 1/100\n",
      "17/17 [==============================] - 2s 106ms/step - loss: 1.7962 - accuracy: 0.1722 - val_loss: 1.7863 - val_accuracy: 0.2750\n",
      "Epoch 2/100\n",
      "17/17 [==============================] - 2s 106ms/step - loss: 1.7853 - accuracy: 0.2435 - val_loss: 1.7817 - val_accuracy: 0.2083\n",
      "Epoch 3/100\n",
      "17/17 [==============================] - 2s 106ms/step - loss: 1.7787 - accuracy: 0.2102 - val_loss: 1.7753 - val_accuracy: 0.3083\n",
      "Epoch 4/100\n",
      "17/17 [==============================] - 2s 101ms/step - loss: 1.7704 - accuracy: 0.3444 - val_loss: 1.7666 - val_accuracy: 0.4583\n",
      "Epoch 5/100\n",
      "17/17 [==============================] - 2s 106ms/step - loss: 1.7600 - accuracy: 0.4065 - val_loss: 1.7569 - val_accuracy: 0.4667\n",
      "Epoch 6/100\n",
      "17/17 [==============================] - 2s 111ms/step - loss: 1.7451 - accuracy: 0.4435 - val_loss: 1.7447 - val_accuracy: 0.4583\n",
      "Epoch 7/100\n",
      "17/17 [==============================] - 2s 111ms/step - loss: 1.7259 - accuracy: 0.4583 - val_loss: 1.7273 - val_accuracy: 0.4417\n",
      "Epoch 8/100\n",
      "17/17 [==============================] - 2s 106ms/step - loss: 1.7004 - accuracy: 0.4676 - val_loss: 1.7039 - val_accuracy: 0.4667\n",
      "Epoch 9/100\n",
      "17/17 [==============================] - 2s 106ms/step - loss: 1.6670 - accuracy: 0.4824 - val_loss: 1.6728 - val_accuracy: 0.4667\n",
      "Epoch 10/100\n",
      "17/17 [==============================] - 2s 107ms/step - loss: 1.6240 - accuracy: 0.4843 - val_loss: 1.6320 - val_accuracy: 0.4750\n",
      "Epoch 11/100\n",
      "17/17 [==============================] - 2s 106ms/step - loss: 1.5702 - accuracy: 0.4972 - val_loss: 1.5833 - val_accuracy: 0.5000\n",
      "Epoch 12/100\n",
      "17/17 [==============================] - 2s 106ms/step - loss: 1.5101 - accuracy: 0.5046 - val_loss: 1.5312 - val_accuracy: 0.4667\n",
      "Epoch 13/100\n",
      "17/17 [==============================] - 2s 102ms/step - loss: 1.4447 - accuracy: 0.5250 - val_loss: 1.4719 - val_accuracy: 0.5000\n",
      "Epoch 14/100\n",
      "17/17 [==============================] - 2s 106ms/step - loss: 1.3838 - accuracy: 0.5278 - val_loss: 1.4120 - val_accuracy: 0.5333\n",
      "Epoch 15/100\n",
      "17/17 [==============================] - 2s 106ms/step - loss: 1.3250 - accuracy: 0.5398 - val_loss: 1.3527 - val_accuracy: 0.5333\n",
      "Epoch 16/100\n",
      "17/17 [==============================] - 2s 106ms/step - loss: 1.2700 - accuracy: 0.5528 - val_loss: 1.2950 - val_accuracy: 0.5583\n",
      "Epoch 17/100\n",
      "17/17 [==============================] - 2s 106ms/step - loss: 1.2193 - accuracy: 0.5750 - val_loss: 1.2429 - val_accuracy: 0.5667\n",
      "Epoch 18/100\n",
      "17/17 [==============================] - 2s 111ms/step - loss: 1.1714 - accuracy: 0.5917 - val_loss: 1.1917 - val_accuracy: 0.5750\n",
      "Epoch 19/100\n",
      "17/17 [==============================] - 2s 106ms/step - loss: 1.1262 - accuracy: 0.6167 - val_loss: 1.1427 - val_accuracy: 0.6167\n",
      "Epoch 20/100\n",
      "17/17 [==============================] - 2s 106ms/step - loss: 1.0817 - accuracy: 0.6352 - val_loss: 1.0962 - val_accuracy: 0.6167\n",
      "Epoch 21/100\n",
      "17/17 [==============================] - 2s 111ms/step - loss: 1.0401 - accuracy: 0.6537 - val_loss: 1.0545 - val_accuracy: 0.6417\n",
      "Epoch 22/100\n",
      "17/17 [==============================] - 2s 106ms/step - loss: 1.0019 - accuracy: 0.6722 - val_loss: 1.0180 - val_accuracy: 0.6333\n",
      "Epoch 23/100\n",
      "17/17 [==============================] - 2s 106ms/step - loss: 0.9675 - accuracy: 0.6852 - val_loss: 0.9860 - val_accuracy: 0.6417\n",
      "Epoch 24/100\n",
      "17/17 [==============================] - 2s 106ms/step - loss: 0.9361 - accuracy: 0.7009 - val_loss: 0.9572 - val_accuracy: 0.6500\n",
      "Epoch 25/100\n",
      "17/17 [==============================] - 2s 106ms/step - loss: 0.9068 - accuracy: 0.7130 - val_loss: 0.9313 - val_accuracy: 0.6417\n",
      "Epoch 26/100\n",
      "17/17 [==============================] - 2s 106ms/step - loss: 0.8809 - accuracy: 0.7194 - val_loss: 0.9084 - val_accuracy: 0.6333\n",
      "Epoch 27/100\n",
      "17/17 [==============================] - 2s 107ms/step - loss: 0.8561 - accuracy: 0.7287 - val_loss: 0.8841 - val_accuracy: 0.6333\n",
      "Epoch 28/100\n",
      "17/17 [==============================] - 2s 106ms/step - loss: 0.8332 - accuracy: 0.7426 - val_loss: 0.8636 - val_accuracy: 0.6583\n",
      "Epoch 29/100\n",
      "17/17 [==============================] - 2s 111ms/step - loss: 0.8110 - accuracy: 0.7556 - val_loss: 0.8425 - val_accuracy: 0.6583\n",
      "Epoch 30/100\n",
      "17/17 [==============================] - 2s 112ms/step - loss: 0.7908 - accuracy: 0.7593 - val_loss: 0.8249 - val_accuracy: 0.6667\n",
      "Epoch 31/100\n",
      "17/17 [==============================] - 2s 107ms/step - loss: 0.7706 - accuracy: 0.7704 - val_loss: 0.8064 - val_accuracy: 0.7000\n",
      "Epoch 32/100\n",
      "17/17 [==============================] - 2s 106ms/step - loss: 0.7516 - accuracy: 0.7769 - val_loss: 0.7887 - val_accuracy: 0.7167\n",
      "Epoch 33/100\n",
      "17/17 [==============================] - 2s 111ms/step - loss: 0.7340 - accuracy: 0.7778 - val_loss: 0.7730 - val_accuracy: 0.7333\n",
      "Epoch 34/100\n",
      "17/17 [==============================] - 2s 111ms/step - loss: 0.7175 - accuracy: 0.7833 - val_loss: 0.7574 - val_accuracy: 0.7417\n",
      "Epoch 35/100\n",
      "17/17 [==============================] - 2s 106ms/step - loss: 0.7021 - accuracy: 0.7852 - val_loss: 0.7441 - val_accuracy: 0.7500\n",
      "Epoch 36/100\n",
      "17/17 [==============================] - 2s 106ms/step - loss: 0.6870 - accuracy: 0.7889 - val_loss: 0.7303 - val_accuracy: 0.7583\n",
      "Epoch 37/100\n",
      "17/17 [==============================] - 2s 106ms/step - loss: 0.6725 - accuracy: 0.7926 - val_loss: 0.7177 - val_accuracy: 0.7667\n",
      "Epoch 38/100\n",
      "17/17 [==============================] - 2s 106ms/step - loss: 0.6586 - accuracy: 0.8028 - val_loss: 0.7053 - val_accuracy: 0.7667\n",
      "Epoch 39/100\n",
      "17/17 [==============================] - 2s 106ms/step - loss: 0.6455 - accuracy: 0.8056 - val_loss: 0.6937 - val_accuracy: 0.7583\n",
      "Epoch 40/100\n",
      "17/17 [==============================] - 2s 106ms/step - loss: 0.6325 - accuracy: 0.8130 - val_loss: 0.6821 - val_accuracy: 0.7667\n",
      "Epoch 41/100\n",
      "17/17 [==============================] - 2s 111ms/step - loss: 0.6202 - accuracy: 0.8167 - val_loss: 0.6706 - val_accuracy: 0.7667\n",
      "Epoch 42/100\n",
      "17/17 [==============================] - 2s 106ms/step - loss: 0.6079 - accuracy: 0.8259 - val_loss: 0.6589 - val_accuracy: 0.7750\n",
      "Epoch 43/100\n",
      "17/17 [==============================] - 2s 106ms/step - loss: 0.5963 - accuracy: 0.8269 - val_loss: 0.6485 - val_accuracy: 0.7750\n",
      "Epoch 44/100\n",
      "17/17 [==============================] - 2s 106ms/step - loss: 0.5854 - accuracy: 0.8296 - val_loss: 0.6379 - val_accuracy: 0.7750\n",
      "Epoch 45/100\n",
      "17/17 [==============================] - 2s 106ms/step - loss: 0.5748 - accuracy: 0.8352 - val_loss: 0.6279 - val_accuracy: 0.7750\n",
      "Epoch 46/100\n",
      "17/17 [==============================] - 2s 107ms/step - loss: 0.5647 - accuracy: 0.8398 - val_loss: 0.6188 - val_accuracy: 0.7750\n",
      "Epoch 47/100\n",
      "17/17 [==============================] - 2s 112ms/step - loss: 0.5547 - accuracy: 0.8444 - val_loss: 0.6095 - val_accuracy: 0.7833\n",
      "Epoch 48/100\n",
      "17/17 [==============================] - 2s 106ms/step - loss: 0.5454 - accuracy: 0.8463 - val_loss: 0.6009 - val_accuracy: 0.7667\n",
      "Epoch 49/100\n",
      "17/17 [==============================] - 2s 112ms/step - loss: 0.5359 - accuracy: 0.8463 - val_loss: 0.5922 - val_accuracy: 0.7667\n",
      "Epoch 50/100\n",
      "17/17 [==============================] - 2s 101ms/step - loss: 0.5272 - accuracy: 0.8481 - val_loss: 0.5848 - val_accuracy: 0.7750\n",
      "Epoch 51/100\n",
      "17/17 [==============================] - 2s 106ms/step - loss: 0.5187 - accuracy: 0.8491 - val_loss: 0.5766 - val_accuracy: 0.7833\n",
      "Epoch 52/100\n",
      "17/17 [==============================] - 2s 107ms/step - loss: 0.5106 - accuracy: 0.8500 - val_loss: 0.5691 - val_accuracy: 0.7917\n",
      "Epoch 53/100\n",
      "17/17 [==============================] - 2s 106ms/step - loss: 0.5028 - accuracy: 0.8519 - val_loss: 0.5615 - val_accuracy: 0.7833\n",
      "Epoch 54/100\n",
      "17/17 [==============================] - 2s 111ms/step - loss: 0.4954 - accuracy: 0.8546 - val_loss: 0.5544 - val_accuracy: 0.7833\n",
      "Epoch 55/100\n",
      "17/17 [==============================] - 2s 106ms/step - loss: 0.4881 - accuracy: 0.8546 - val_loss: 0.5471 - val_accuracy: 0.7833\n",
      "Epoch 56/100\n",
      "17/17 [==============================] - 2s 106ms/step - loss: 0.4809 - accuracy: 0.8574 - val_loss: 0.5402 - val_accuracy: 0.7833\n",
      "Epoch 57/100\n",
      "17/17 [==============================] - 2s 111ms/step - loss: 0.4740 - accuracy: 0.8583 - val_loss: 0.5333 - val_accuracy: 0.7833\n",
      "Epoch 58/100\n",
      "17/17 [==============================] - 2s 106ms/step - loss: 0.4670 - accuracy: 0.8602 - val_loss: 0.5260 - val_accuracy: 0.7917\n",
      "Epoch 59/100\n",
      "17/17 [==============================] - 2s 106ms/step - loss: 0.4608 - accuracy: 0.8602 - val_loss: 0.5199 - val_accuracy: 0.8000\n",
      "Epoch 60/100\n",
      "17/17 [==============================] - 2s 101ms/step - loss: 0.4542 - accuracy: 0.8602 - val_loss: 0.5131 - val_accuracy: 0.8083\n",
      "Epoch 61/100\n",
      "17/17 [==============================] - 2s 106ms/step - loss: 0.4481 - accuracy: 0.8648 - val_loss: 0.5068 - val_accuracy: 0.8083\n",
      "Epoch 62/100\n",
      "17/17 [==============================] - 2s 111ms/step - loss: 0.4421 - accuracy: 0.8685 - val_loss: 0.5000 - val_accuracy: 0.8333\n",
      "Epoch 63/100\n",
      "17/17 [==============================] - 2s 111ms/step - loss: 0.4362 - accuracy: 0.8694 - val_loss: 0.4940 - val_accuracy: 0.8333\n",
      "Epoch 64/100\n",
      "17/17 [==============================] - 2s 112ms/step - loss: 0.4309 - accuracy: 0.8704 - val_loss: 0.4886 - val_accuracy: 0.8333\n",
      "Epoch 65/100\n",
      "17/17 [==============================] - 2s 111ms/step - loss: 0.4255 - accuracy: 0.8731 - val_loss: 0.4830 - val_accuracy: 0.8333\n",
      "Epoch 66/100\n",
      "17/17 [==============================] - 2s 106ms/step - loss: 0.4200 - accuracy: 0.8759 - val_loss: 0.4774 - val_accuracy: 0.8333\n",
      "Epoch 67/100\n",
      "17/17 [==============================] - 2s 106ms/step - loss: 0.4151 - accuracy: 0.8778 - val_loss: 0.4726 - val_accuracy: 0.8333\n",
      "Epoch 68/100\n",
      "17/17 [==============================] - 2s 106ms/step - loss: 0.4098 - accuracy: 0.8787 - val_loss: 0.4674 - val_accuracy: 0.8333\n",
      "Epoch 69/100\n",
      "17/17 [==============================] - 2s 106ms/step - loss: 0.4050 - accuracy: 0.8815 - val_loss: 0.4627 - val_accuracy: 0.8333\n",
      "Epoch 70/100\n",
      "17/17 [==============================] - 2s 112ms/step - loss: 0.3998 - accuracy: 0.8843 - val_loss: 0.4573 - val_accuracy: 0.8333\n",
      "Epoch 71/100\n",
      "17/17 [==============================] - 2s 111ms/step - loss: 0.3952 - accuracy: 0.8852 - val_loss: 0.4532 - val_accuracy: 0.8417\n",
      "Epoch 72/100\n",
      "17/17 [==============================] - 2s 107ms/step - loss: 0.3905 - accuracy: 0.8880 - val_loss: 0.4484 - val_accuracy: 0.8417\n",
      "Epoch 73/100\n",
      "17/17 [==============================] - 2s 106ms/step - loss: 0.3864 - accuracy: 0.8889 - val_loss: 0.4441 - val_accuracy: 0.8417\n",
      "Epoch 74/100\n",
      "17/17 [==============================] - 2s 111ms/step - loss: 0.3820 - accuracy: 0.8907 - val_loss: 0.4391 - val_accuracy: 0.8417\n",
      "Epoch 75/100\n",
      "17/17 [==============================] - 2s 106ms/step - loss: 0.3777 - accuracy: 0.8917 - val_loss: 0.4349 - val_accuracy: 0.8417\n",
      "Epoch 76/100\n",
      "17/17 [==============================] - 2s 106ms/step - loss: 0.3736 - accuracy: 0.8954 - val_loss: 0.4306 - val_accuracy: 0.8417\n",
      "Epoch 77/100\n",
      "17/17 [==============================] - 2s 107ms/step - loss: 0.3696 - accuracy: 0.8954 - val_loss: 0.4272 - val_accuracy: 0.8417\n",
      "Epoch 78/100\n",
      "17/17 [==============================] - 2s 106ms/step - loss: 0.3656 - accuracy: 0.8972 - val_loss: 0.4230 - val_accuracy: 0.8500\n",
      "Epoch 79/100\n",
      "17/17 [==============================] - 2s 106ms/step - loss: 0.3617 - accuracy: 0.8972 - val_loss: 0.4194 - val_accuracy: 0.8500\n",
      "Epoch 80/100\n",
      "17/17 [==============================] - 2s 106ms/step - loss: 0.3579 - accuracy: 0.8991 - val_loss: 0.4156 - val_accuracy: 0.8500\n",
      "Epoch 81/100\n",
      "17/17 [==============================] - 2s 101ms/step - loss: 0.3542 - accuracy: 0.8991 - val_loss: 0.4124 - val_accuracy: 0.8583\n",
      "Epoch 82/100\n",
      "17/17 [==============================] - 2s 106ms/step - loss: 0.3505 - accuracy: 0.8991 - val_loss: 0.4084 - val_accuracy: 0.8583\n",
      "Epoch 83/100\n",
      "17/17 [==============================] - 2s 106ms/step - loss: 0.3469 - accuracy: 0.9019 - val_loss: 0.4051 - val_accuracy: 0.8583\n",
      "Epoch 84/100\n",
      "17/17 [==============================] - 2s 106ms/step - loss: 0.3432 - accuracy: 0.9019 - val_loss: 0.4020 - val_accuracy: 0.8583\n",
      "Epoch 85/100\n",
      "17/17 [==============================] - 2s 106ms/step - loss: 0.3400 - accuracy: 0.9009 - val_loss: 0.3990 - val_accuracy: 0.8583\n",
      "Epoch 86/100\n",
      "17/17 [==============================] - 2s 106ms/step - loss: 0.3367 - accuracy: 0.9009 - val_loss: 0.3957 - val_accuracy: 0.8583\n",
      "Epoch 87/100\n",
      "17/17 [==============================] - 2s 106ms/step - loss: 0.3335 - accuracy: 0.9019 - val_loss: 0.3923 - val_accuracy: 0.8583\n",
      "Epoch 88/100\n",
      "17/17 [==============================] - 2s 106ms/step - loss: 0.3303 - accuracy: 0.9037 - val_loss: 0.3894 - val_accuracy: 0.8583\n",
      "Epoch 89/100\n",
      "17/17 [==============================] - 2s 106ms/step - loss: 0.3274 - accuracy: 0.9028 - val_loss: 0.3864 - val_accuracy: 0.8750\n",
      "Epoch 90/100\n",
      "17/17 [==============================] - 2s 106ms/step - loss: 0.3241 - accuracy: 0.9028 - val_loss: 0.3835 - val_accuracy: 0.8750\n",
      "Epoch 91/100\n",
      "17/17 [==============================] - 2s 106ms/step - loss: 0.3210 - accuracy: 0.9037 - val_loss: 0.3803 - val_accuracy: 0.8833\n",
      "Epoch 92/100\n",
      "17/17 [==============================] - 2s 106ms/step - loss: 0.3181 - accuracy: 0.9037 - val_loss: 0.3774 - val_accuracy: 0.8833\n",
      "Epoch 93/100\n",
      "17/17 [==============================] - 2s 106ms/step - loss: 0.3152 - accuracy: 0.9056 - val_loss: 0.3746 - val_accuracy: 0.8833\n",
      "Epoch 94/100\n",
      "17/17 [==============================] - 2s 106ms/step - loss: 0.3124 - accuracy: 0.9056 - val_loss: 0.3724 - val_accuracy: 0.8750\n",
      "Epoch 95/100\n",
      "17/17 [==============================] - 2s 107ms/step - loss: 0.3091 - accuracy: 0.9056 - val_loss: 0.3696 - val_accuracy: 0.8750\n",
      "Epoch 96/100\n",
      "17/17 [==============================] - 2s 107ms/step - loss: 0.3061 - accuracy: 0.9074 - val_loss: 0.3669 - val_accuracy: 0.8750\n",
      "Epoch 97/100\n",
      "17/17 [==============================] - 2s 106ms/step - loss: 0.3034 - accuracy: 0.9065 - val_loss: 0.3642 - val_accuracy: 0.8750\n",
      "Epoch 98/100\n",
      "17/17 [==============================] - 2s 111ms/step - loss: 0.3006 - accuracy: 0.9074 - val_loss: 0.3623 - val_accuracy: 0.8833\n",
      "Epoch 99/100\n",
      "17/17 [==============================] - 2s 106ms/step - loss: 0.2976 - accuracy: 0.9083 - val_loss: 0.3603 - val_accuracy: 0.8833\n",
      "Epoch 100/100\n",
      "17/17 [==============================] - 2s 106ms/step - loss: 0.2953 - accuracy: 0.9083 - val_loss: 0.3583 - val_accuracy: 0.8833\n"
     ]
    }
   ],
   "source": [
    "train_dataset = tf.data.Dataset.from_tensor_slices((X_train, Y_train)).batch(64)\n",
    "test_dataset = tf.data.Dataset.from_tensor_slices((X_test, Y_test)).batch(64)\n",
    "history = conv_model.fit(train_dataset, epochs=100, validation_data=test_dataset)"
   ]
  },
  {
   "cell_type": "markdown",
   "metadata": {},
   "source": [
    "<a name='5'></a>\n",
    "## 5 - History Object \n",
    "\n",
    "The history object is an output of the `.fit()` operation, and provides a record of all the loss and metric values in memory. It's stored as a dictionary that you can retrieve at `history.history`: "
   ]
  },
  {
   "cell_type": "code",
   "execution_count": 27,
   "metadata": {},
   "outputs": [
    {
     "data": {
      "text/plain": [
       "{'loss': [1.7962095737457275,\n",
       "  1.7853338718414307,\n",
       "  1.7786973714828491,\n",
       "  1.770445466041565,\n",
       "  1.7600421905517578,\n",
       "  1.7451280355453491,\n",
       "  1.7259457111358643,\n",
       "  1.7004395723342896,\n",
       "  1.6669819355010986,\n",
       "  1.6240116357803345,\n",
       "  1.5701950788497925,\n",
       "  1.510135293006897,\n",
       "  1.4446642398834229,\n",
       "  1.38375723361969,\n",
       "  1.324968695640564,\n",
       "  1.2700097560882568,\n",
       "  1.2193350791931152,\n",
       "  1.1714322566986084,\n",
       "  1.126173973083496,\n",
       "  1.0816863775253296,\n",
       "  1.0401396751403809,\n",
       "  1.0019079446792603,\n",
       "  0.9675436615943909,\n",
       "  0.9361383318901062,\n",
       "  0.9068182110786438,\n",
       "  0.8808695673942566,\n",
       "  0.8560777902603149,\n",
       "  0.8331542015075684,\n",
       "  0.8110277056694031,\n",
       "  0.7908189296722412,\n",
       "  0.7705590724945068,\n",
       "  0.7516088485717773,\n",
       "  0.7340425848960876,\n",
       "  0.7175189852714539,\n",
       "  0.7021490335464478,\n",
       "  0.6869874000549316,\n",
       "  0.6724651455879211,\n",
       "  0.6586199998855591,\n",
       "  0.6454737782478333,\n",
       "  0.6324931979179382,\n",
       "  0.6201703548431396,\n",
       "  0.6078507304191589,\n",
       "  0.5963238477706909,\n",
       "  0.5853763818740845,\n",
       "  0.5747586488723755,\n",
       "  0.5646918416023254,\n",
       "  0.5546877384185791,\n",
       "  0.5453878045082092,\n",
       "  0.5359175801277161,\n",
       "  0.5271685719490051,\n",
       "  0.5186816453933716,\n",
       "  0.5105815529823303,\n",
       "  0.5027522444725037,\n",
       "  0.4954468905925751,\n",
       "  0.488064169883728,\n",
       "  0.4809079170227051,\n",
       "  0.47400858998298645,\n",
       "  0.4669959247112274,\n",
       "  0.46079641580581665,\n",
       "  0.45424383878707886,\n",
       "  0.4480985105037689,\n",
       "  0.4421338140964508,\n",
       "  0.43622705340385437,\n",
       "  0.43086525797843933,\n",
       "  0.42547911405563354,\n",
       "  0.4200446903705597,\n",
       "  0.4151008129119873,\n",
       "  0.40978214144706726,\n",
       "  0.40504419803619385,\n",
       "  0.3998236060142517,\n",
       "  0.3951937258243561,\n",
       "  0.39052197337150574,\n",
       "  0.38636261224746704,\n",
       "  0.3820265531539917,\n",
       "  0.3776550590991974,\n",
       "  0.3735766112804413,\n",
       "  0.3695759177207947,\n",
       "  0.36555635929107666,\n",
       "  0.3616970479488373,\n",
       "  0.3578818440437317,\n",
       "  0.3542117774486542,\n",
       "  0.35049816966056824,\n",
       "  0.3468935191631317,\n",
       "  0.343218058347702,\n",
       "  0.34000471234321594,\n",
       "  0.3366565704345703,\n",
       "  0.3334522247314453,\n",
       "  0.33030128479003906,\n",
       "  0.3273610770702362,\n",
       "  0.32412874698638916,\n",
       "  0.3210356831550598,\n",
       "  0.3180685341358185,\n",
       "  0.31517133116722107,\n",
       "  0.3123621940612793,\n",
       "  0.3091214895248413,\n",
       "  0.30607104301452637,\n",
       "  0.3033669590950012,\n",
       "  0.30057424306869507,\n",
       "  0.29764655232429504,\n",
       "  0.29532793164253235],\n",
       " 'accuracy': [0.17222222685813904,\n",
       "  0.24351851642131805,\n",
       "  0.2101851850748062,\n",
       "  0.3444444537162781,\n",
       "  0.40648147463798523,\n",
       "  0.4435185194015503,\n",
       "  0.4583333432674408,\n",
       "  0.46759259700775146,\n",
       "  0.48240742087364197,\n",
       "  0.4842592477798462,\n",
       "  0.4972222149372101,\n",
       "  0.5046296119689941,\n",
       "  0.5249999761581421,\n",
       "  0.5277777910232544,\n",
       "  0.539814829826355,\n",
       "  0.5527777671813965,\n",
       "  0.574999988079071,\n",
       "  0.5916666388511658,\n",
       "  0.6166666746139526,\n",
       "  0.635185182094574,\n",
       "  0.6537036895751953,\n",
       "  0.6722221970558167,\n",
       "  0.6851851940155029,\n",
       "  0.7009259462356567,\n",
       "  0.7129629850387573,\n",
       "  0.7194444537162781,\n",
       "  0.7287036776542664,\n",
       "  0.7425925731658936,\n",
       "  0.7555555701255798,\n",
       "  0.7592592835426331,\n",
       "  0.770370364189148,\n",
       "  0.7768518328666687,\n",
       "  0.7777777910232544,\n",
       "  0.7833333611488342,\n",
       "  0.7851851582527161,\n",
       "  0.7888888716697693,\n",
       "  0.7925925850868225,\n",
       "  0.8027777671813965,\n",
       "  0.8055555820465088,\n",
       "  0.8129629492759705,\n",
       "  0.8166666626930237,\n",
       "  0.8259259462356567,\n",
       "  0.8268518447875977,\n",
       "  0.8296296000480652,\n",
       "  0.835185170173645,\n",
       "  0.8398148417472839,\n",
       "  0.8444444537162781,\n",
       "  0.8462963104248047,\n",
       "  0.8462963104248047,\n",
       "  0.8481481671333313,\n",
       "  0.8490740656852722,\n",
       "  0.8500000238418579,\n",
       "  0.8518518805503845,\n",
       "  0.854629635810852,\n",
       "  0.854629635810852,\n",
       "  0.8574073910713196,\n",
       "  0.8583333492279053,\n",
       "  0.8601852059364319,\n",
       "  0.8601852059364319,\n",
       "  0.8601852059364319,\n",
       "  0.864814817905426,\n",
       "  0.8685185313224792,\n",
       "  0.8694444298744202,\n",
       "  0.8703703880310059,\n",
       "  0.8731481432914734,\n",
       "  0.8759258985519409,\n",
       "  0.8777777552604675,\n",
       "  0.8787037134170532,\n",
       "  0.8814814686775208,\n",
       "  0.8842592835426331,\n",
       "  0.885185182094574,\n",
       "  0.8879629373550415,\n",
       "  0.8888888955116272,\n",
       "  0.8907407522201538,\n",
       "  0.8916666507720947,\n",
       "  0.895370364189148,\n",
       "  0.895370364189148,\n",
       "  0.8972222208976746,\n",
       "  0.8972222208976746,\n",
       "  0.8990740776062012,\n",
       "  0.8990740776062012,\n",
       "  0.8990740776062012,\n",
       "  0.9018518328666687,\n",
       "  0.9018518328666687,\n",
       "  0.9009259343147278,\n",
       "  0.9009259343147278,\n",
       "  0.9018518328666687,\n",
       "  0.9037036895751953,\n",
       "  0.9027777910232544,\n",
       "  0.9027777910232544,\n",
       "  0.9037036895751953,\n",
       "  0.9037036895751953,\n",
       "  0.9055555462837219,\n",
       "  0.9055555462837219,\n",
       "  0.9055555462837219,\n",
       "  0.9074074029922485,\n",
       "  0.9064815044403076,\n",
       "  0.9074074029922485,\n",
       "  0.9083333611488342,\n",
       "  0.9083333611488342],\n",
       " 'val_loss': [1.7863179445266724,\n",
       "  1.7817481756210327,\n",
       "  1.7752677202224731,\n",
       "  1.7665677070617676,\n",
       "  1.7568705081939697,\n",
       "  1.7446802854537964,\n",
       "  1.727257251739502,\n",
       "  1.7039350271224976,\n",
       "  1.6728479862213135,\n",
       "  1.6319947242736816,\n",
       "  1.5833191871643066,\n",
       "  1.5311682224273682,\n",
       "  1.4718910455703735,\n",
       "  1.4119545221328735,\n",
       "  1.352699875831604,\n",
       "  1.2949798107147217,\n",
       "  1.242930293083191,\n",
       "  1.1916993856430054,\n",
       "  1.1427022218704224,\n",
       "  1.0961695909500122,\n",
       "  1.0544841289520264,\n",
       "  1.018038272857666,\n",
       "  0.9860357642173767,\n",
       "  0.9572436809539795,\n",
       "  0.9312883019447327,\n",
       "  0.9083919525146484,\n",
       "  0.8841397762298584,\n",
       "  0.8635647892951965,\n",
       "  0.8424996733665466,\n",
       "  0.8249037265777588,\n",
       "  0.8064256906509399,\n",
       "  0.788707435131073,\n",
       "  0.7729715704917908,\n",
       "  0.7574149370193481,\n",
       "  0.7441123127937317,\n",
       "  0.7302790284156799,\n",
       "  0.7176891565322876,\n",
       "  0.7053496241569519,\n",
       "  0.6937058568000793,\n",
       "  0.682125449180603,\n",
       "  0.6705846190452576,\n",
       "  0.6589036583900452,\n",
       "  0.6484836339950562,\n",
       "  0.6378862857818604,\n",
       "  0.6279209852218628,\n",
       "  0.6187508702278137,\n",
       "  0.6095161437988281,\n",
       "  0.600857675075531,\n",
       "  0.5922062993049622,\n",
       "  0.5847606062889099,\n",
       "  0.5766118764877319,\n",
       "  0.5690971612930298,\n",
       "  0.5615041255950928,\n",
       "  0.5544391870498657,\n",
       "  0.5470532178878784,\n",
       "  0.5401644110679626,\n",
       "  0.5333195328712463,\n",
       "  0.5259853005409241,\n",
       "  0.5199070572853088,\n",
       "  0.5130687952041626,\n",
       "  0.5067886710166931,\n",
       "  0.49995091557502747,\n",
       "  0.4939829409122467,\n",
       "  0.48861122131347656,\n",
       "  0.48300743103027344,\n",
       "  0.4773971736431122,\n",
       "  0.47262880206108093,\n",
       "  0.4674268066883087,\n",
       "  0.46268945932388306,\n",
       "  0.4573250412940979,\n",
       "  0.4531789720058441,\n",
       "  0.44840332865715027,\n",
       "  0.4441094696521759,\n",
       "  0.43905892968177795,\n",
       "  0.4348531663417816,\n",
       "  0.4305672347545624,\n",
       "  0.427198588848114,\n",
       "  0.42302405834198,\n",
       "  0.4194332957267761,\n",
       "  0.4156363308429718,\n",
       "  0.41240400075912476,\n",
       "  0.40842026472091675,\n",
       "  0.4051380753517151,\n",
       "  0.40200817584991455,\n",
       "  0.39902597665786743,\n",
       "  0.39567694067955017,\n",
       "  0.3922974467277527,\n",
       "  0.3893989622592926,\n",
       "  0.38640403747558594,\n",
       "  0.38345327973365784,\n",
       "  0.38034501671791077,\n",
       "  0.3774467408657074,\n",
       "  0.37464573979377747,\n",
       "  0.37236514687538147,\n",
       "  0.3696419298648834,\n",
       "  0.3669385015964508,\n",
       "  0.36424344778060913,\n",
       "  0.36228957772254944,\n",
       "  0.3602725863456726,\n",
       "  0.358273446559906],\n",
       " 'val_accuracy': [0.2750000059604645,\n",
       "  0.2083333283662796,\n",
       "  0.3083333373069763,\n",
       "  0.4583333432674408,\n",
       "  0.46666666865348816,\n",
       "  0.4583333432674408,\n",
       "  0.4416666626930237,\n",
       "  0.46666666865348816,\n",
       "  0.46666666865348816,\n",
       "  0.4749999940395355,\n",
       "  0.5,\n",
       "  0.46666666865348816,\n",
       "  0.5,\n",
       "  0.5333333611488342,\n",
       "  0.5333333611488342,\n",
       "  0.5583333373069763,\n",
       "  0.5666666626930237,\n",
       "  0.574999988079071,\n",
       "  0.6166666746139526,\n",
       "  0.6166666746139526,\n",
       "  0.6416666507720947,\n",
       "  0.6333333253860474,\n",
       "  0.6416666507720947,\n",
       "  0.6499999761581421,\n",
       "  0.6416666507720947,\n",
       "  0.6333333253860474,\n",
       "  0.6333333253860474,\n",
       "  0.6583333611488342,\n",
       "  0.6583333611488342,\n",
       "  0.6666666865348816,\n",
       "  0.699999988079071,\n",
       "  0.7166666388511658,\n",
       "  0.7333333492279053,\n",
       "  0.7416666746139526,\n",
       "  0.75,\n",
       "  0.7583333253860474,\n",
       "  0.7666666507720947,\n",
       "  0.7666666507720947,\n",
       "  0.7583333253860474,\n",
       "  0.7666666507720947,\n",
       "  0.7666666507720947,\n",
       "  0.7749999761581421,\n",
       "  0.7749999761581421,\n",
       "  0.7749999761581421,\n",
       "  0.7749999761581421,\n",
       "  0.7749999761581421,\n",
       "  0.7833333611488342,\n",
       "  0.7666666507720947,\n",
       "  0.7666666507720947,\n",
       "  0.7749999761581421,\n",
       "  0.7833333611488342,\n",
       "  0.7916666865348816,\n",
       "  0.7833333611488342,\n",
       "  0.7833333611488342,\n",
       "  0.7833333611488342,\n",
       "  0.7833333611488342,\n",
       "  0.7833333611488342,\n",
       "  0.7916666865348816,\n",
       "  0.800000011920929,\n",
       "  0.8083333373069763,\n",
       "  0.8083333373069763,\n",
       "  0.8333333134651184,\n",
       "  0.8333333134651184,\n",
       "  0.8333333134651184,\n",
       "  0.8333333134651184,\n",
       "  0.8333333134651184,\n",
       "  0.8333333134651184,\n",
       "  0.8333333134651184,\n",
       "  0.8333333134651184,\n",
       "  0.8333333134651184,\n",
       "  0.8416666388511658,\n",
       "  0.8416666388511658,\n",
       "  0.8416666388511658,\n",
       "  0.8416666388511658,\n",
       "  0.8416666388511658,\n",
       "  0.8416666388511658,\n",
       "  0.8416666388511658,\n",
       "  0.8500000238418579,\n",
       "  0.8500000238418579,\n",
       "  0.8500000238418579,\n",
       "  0.8583333492279053,\n",
       "  0.8583333492279053,\n",
       "  0.8583333492279053,\n",
       "  0.8583333492279053,\n",
       "  0.8583333492279053,\n",
       "  0.8583333492279053,\n",
       "  0.8583333492279053,\n",
       "  0.8583333492279053,\n",
       "  0.875,\n",
       "  0.875,\n",
       "  0.8833333253860474,\n",
       "  0.8833333253860474,\n",
       "  0.8833333253860474,\n",
       "  0.875,\n",
       "  0.875,\n",
       "  0.875,\n",
       "  0.875,\n",
       "  0.8833333253860474,\n",
       "  0.8833333253860474,\n",
       "  0.8833333253860474]}"
      ]
     },
     "execution_count": 27,
     "metadata": {},
     "output_type": "execute_result"
    }
   ],
   "source": [
    "history.history"
   ]
  },
  {
   "cell_type": "markdown",
   "metadata": {},
   "source": [
    "Now visualize the loss over time using `history.history`: "
   ]
  },
  {
   "cell_type": "code",
   "execution_count": 28,
   "metadata": {},
   "outputs": [
    {
     "data": {
      "text/plain": [
       "[Text(0, 0.5, 'Accuracy'), Text(0.5, 0, 'Epoch')]"
      ]
     },
     "execution_count": 28,
     "metadata": {},
     "output_type": "execute_result"
    },
    {
     "data": {
      "image/png": "[encoded data removed]",
      "text/plain": [
       "<Figure size 864x576 with 1 Axes>"
      ]
     },
     "metadata": {
      "needs_background": "light"
     },
     "output_type": "display_data"
    },
    {
     "data": {
      "image/png": "[encoded data removed]",
      "text/plain": [
       "<Figure size 864x576 with 1 Axes>"
      ]
     },
     "metadata": {
      "needs_background": "light"
     },
     "output_type": "display_data"
    }
   ],
   "source": [
    "# The history.history[\"loss\"] entry is a dictionary with as many values as epochs that the\n",
    "# model was trained on. \n",
    "df_loss_acc = pd.DataFrame(history.history)\n",
    "df_loss= df_loss_acc[['loss','val_loss']]\n",
    "df_loss.rename(columns={'loss':'train','val_loss':'validation'},inplace=True)\n",
    "df_acc= df_loss_acc[['accuracy','val_accuracy']]\n",
    "df_acc.rename(columns={'accuracy':'train','val_accuracy':'validation'},inplace=True)\n",
    "df_loss.plot(title='Model loss',figsize=(12,8)).set(xlabel='Epoch',ylabel='Loss')\n",
    "df_acc.plot(title='Model Accuracy',figsize=(12,8)).set(xlabel='Epoch',ylabel='Accuracy')"
   ]
  },
  {
   "cell_type": "markdown",
   "metadata": {},
   "source": [
    "**Congratulations**! You've finished the assignment and built two models: One that recognizes  smiles, and another that recognizes SIGN language with almost 80% accuracy on the test set. In addition to that, you now also understand the applications of two Keras APIs: Sequential and Functional. Nicely done! \n",
    "\n",
    "By now, you know a bit about how the Functional API works and may have glimpsed the possibilities. In your next assignment, you'll really get a feel for its power when you get the opportunity to build a very deep ConvNet, using ResNets! "
   ]
  },
  {
   "cell_type": "markdown",
   "metadata": {},
   "source": [
    "<a name='6'></a>\n",
    "## 6 - Bibliography\n",
    "\n",
    "You're always encouraged to read the official documentation. To that end, you can find the docs for the Sequential and Functional APIs here: \n",
    "\n",
    "https://www.tensorflow.org/guide/keras/sequential_model\n",
    "\n",
    "https://www.tensorflow.org/guide/keras/functional"
   ]
  }
 ],
 "metadata": {
  "coursera": {
   "course_slug": "convolutional-neural-networks",
   "graded_item_id": "bwbJV",
   "launcher_item_id": "0TkXB"
  },
  "kernelspec": {
   "display_name": "Python 3",
   "language": "python",
   "name": "python3"
  },
  "language_info": {
   "codemirror_mode": {
    "name": "ipython",
    "version": 3
   },
   "file_extension": ".py",
   "mimetype": "text/x-python",
   "name": "python",
   "nbconvert_exporter": "python",
   "pygments_lexer": "ipython3",
   "version": "3.7.6"
  }
 },
 "nbformat": 4,
 "nbformat_minor": 2
}
